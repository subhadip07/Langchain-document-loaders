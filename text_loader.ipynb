{
 "cells": [
  {
   "cell_type": "markdown",
   "id": "1ada2410",
   "metadata": {},
   "source": [
    "### 1. TextLoader\n",
    "* It is a simple and commonly used document loader in LangChain that reads plain text (.txt) files and converts them into LangChain Document objects."
   ]
  },
  {
   "cell_type": "code",
   "execution_count": 3,
   "id": "c6edd8f7",
   "metadata": {},
   "outputs": [
    {
     "data": {
      "text/plain": [
       "True"
      ]
     },
     "execution_count": 3,
     "metadata": {},
     "output_type": "execute_result"
    }
   ],
   "source": [
    "from langchain_groq import ChatGroq\n",
    "from langchain_community.document_loaders import TextLoader\n",
    "from langchain_core.output_parsers import StrOutputParser\n",
    "from langchain_core.prompts import PromptTemplate\n",
    "from dotenv import load_dotenv\n",
    "\n",
    "load_dotenv()"
   ]
  },
  {
   "cell_type": "code",
   "execution_count": 4,
   "id": "4f522a15",
   "metadata": {},
   "outputs": [],
   "source": [
    "model = ChatGroq(model='llama-3.1-8b-instant')"
   ]
  },
  {
   "cell_type": "code",
   "execution_count": 5,
   "id": "fbb69f86",
   "metadata": {},
   "outputs": [],
   "source": [
    "prompt = PromptTemplate(\n",
    "    template='Write a summary for the following text - \\n {text}',\n",
    "    input_variables=['text']\n",
    ")"
   ]
  },
  {
   "cell_type": "code",
   "execution_count": 6,
   "id": "1fdff54e",
   "metadata": {},
   "outputs": [],
   "source": [
    "parser = StrOutputParser()"
   ]
  },
  {
   "cell_type": "code",
   "execution_count": 7,
   "id": "7ac5a49e",
   "metadata": {},
   "outputs": [],
   "source": [
    "loader = TextLoader('text.txt', encoding='utf-8')"
   ]
  },
  {
   "cell_type": "code",
   "execution_count": 8,
   "id": "ba9958b6",
   "metadata": {},
   "outputs": [],
   "source": [
    "docs = loader.load()"
   ]
  },
  {
   "cell_type": "code",
   "execution_count": 9,
   "id": "c87ea086",
   "metadata": {},
   "outputs": [
    {
     "name": "stdout",
     "output_type": "stream",
     "text": [
      "1\n"
     ]
    }
   ],
   "source": [
    "print(len(docs))"
   ]
  },
  {
   "cell_type": "code",
   "execution_count": 10,
   "id": "78e87cf1",
   "metadata": {},
   "outputs": [
    {
     "name": "stdout",
     "output_type": "stream",
     "text": [
      "When I think about the amount of food waste in our community, it really frustrates me. It feels like such a senseless problem, especially when so many people are struggling to access basic necessities. My vision is to create a mobile app that connects local restaurants with shelters and food banks, allowing them to donate surplus food in real-time.\n",
      "\n",
      "Honestly, the biggest challenge I foresee is getting restaurants and shelters to adopt the app. People are often resistant to change, and I'm sure there will be technical hurdles to overcome. But I'm determined to make this work. I've already started researching similar initiatives and reaching out to potential partners. I believe that by demonstrating the app's efficiency and impact, we can convince people to give it a try.\n",
      "\n",
      "I’m incredibly excited about the potential of this project. The idea of making a tangible difference in people's lives is incredibly motivating. Of course, I'm also nervous. What if I fail? What if no one uses the app? Those thoughts creep in sometimes. But then I remind myself that even if we can help just a few people, it will be worth it. I’ve always felt a pull to do something meaningful, and this feels like my chance. I am ready to put in the work, even when it gets difficult. I know there will be setbacks, but I am confident that I can find solutions. I am eager to learn from every step of the process. I feel a sense of responsibility to see this through.\n",
      "\n"
     ]
    }
   ],
   "source": [
    "print(docs[0].page_content)"
   ]
  },
  {
   "cell_type": "code",
   "execution_count": 11,
   "id": "bdd5634e",
   "metadata": {},
   "outputs": [
    {
     "name": "stdout",
     "output_type": "stream",
     "text": [
      "{'source': 'text.txt'}\n"
     ]
    }
   ],
   "source": [
    "print(docs[0].metadata)"
   ]
  },
  {
   "cell_type": "code",
   "execution_count": 12,
   "id": "fde5fabd",
   "metadata": {},
   "outputs": [],
   "source": [
    "chain = prompt | model | parser"
   ]
  },
  {
   "cell_type": "code",
   "execution_count": 14,
   "id": "4c281c23",
   "metadata": {},
   "outputs": [
    {
     "name": "stdout",
     "output_type": "stream",
     "text": [
      "The writer is passionate about reducing food waste in their community and has come up with a vision to create a mobile app that connects local restaurants with shelters and food banks to facilitate real-time food donations. They anticipate challenges in convincing restaurants and shelters to use the app, but are determined to make it a success. The writer is motivated by the potential to make a tangible difference in people's lives and is willing to put in the work to overcome obstacles and achieve their goal.\n"
     ]
    }
   ],
   "source": [
    "print(chain.invoke({'text': docs[0].page_content}))"
   ]
  },
  {
   "cell_type": "code",
   "execution_count": null,
   "id": "ebd724da",
   "metadata": {},
   "outputs": [],
   "source": []
  }
 ],
 "metadata": {
  "kernelspec": {
   "display_name": "langchain-document-loaders",
   "language": "python",
   "name": "python3"
  },
  "language_info": {
   "codemirror_mode": {
    "name": "ipython",
    "version": 3
   },
   "file_extension": ".py",
   "mimetype": "text/x-python",
   "name": "python",
   "nbconvert_exporter": "python",
   "pygments_lexer": "ipython3",
   "version": "3.13.1"
  }
 },
 "nbformat": 4,
 "nbformat_minor": 5
}
