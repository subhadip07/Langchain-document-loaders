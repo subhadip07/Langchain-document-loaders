{
 "cells": [
  {
   "cell_type": "markdown",
   "id": "ce72ae86",
   "metadata": {},
   "source": [
    "### 2. PyPDFLoader\n",
    "* It is a document loader in LangChain used to load content from PDF files and convert each page into a Document object."
   ]
  },
  {
   "cell_type": "code",
   "execution_count": 2,
   "id": "9f4855d5",
   "metadata": {},
   "outputs": [],
   "source": [
    "from langchain_community.document_loaders import PyPDFLoader"
   ]
  },
  {
   "cell_type": "code",
   "execution_count": 3,
   "id": "ca255d0b",
   "metadata": {},
   "outputs": [],
   "source": [
    "loader = PyPDFLoader('pdw.pdf')"
   ]
  },
  {
   "cell_type": "code",
   "execution_count": 6,
   "id": "f3a49219",
   "metadata": {},
   "outputs": [],
   "source": [
    "docs = loader.load()"
   ]
  },
  {
   "cell_type": "code",
   "execution_count": 7,
   "id": "ec7b5777",
   "metadata": {},
   "outputs": [
    {
     "name": "stdout",
     "output_type": "stream",
     "text": [
      "18\n"
     ]
    }
   ],
   "source": [
    "print(len(docs))"
   ]
  },
  {
   "cell_type": "code",
   "execution_count": 8,
   "id": "dfb39190",
   "metadata": {},
   "outputs": [
    {
     "name": "stdout",
     "output_type": "stream",
     "text": [
      "2734 \n",
      "Creative and Innovations Practices of Higher \n",
      "Education Institution Students in Malaysia \n",
      "towards Entrepreneurial Leadership \n",
      " \n",
      "Farah Syahirah Mohammed Yusoff, Norasmah Othman                     \n",
      "Faculty of Education, National University of Malaysia, Selangor, Malaysia \n",
      "Email: p120158@siswa.ukm.edu.my, lin@ukm.edu.my \n",
      " \n",
      "Abstract \n",
      "The issue of the essential job skills required by today's career economy is too high and \n",
      "unattainable for higher education institution students. The readiness for leadership among \n",
      "higher education institution students still needs to be enhanced to help them prepare for the \n",
      "future and better transition into the workforce. Therefore, students need to be equipped with \n",
      "entrepreneurial leadership qualities to face curren t career challenges. This study aims to \n",
      "identify the level of creative practices and innovations among higher education institution \n",
      "students towards entrepreneurial leadership. A total of 350 higher education institution \n",
      "students were randomly selected as respondents for this study. A questionnaire instrument \n",
      "was used to collect data from the respondents. The data were analyzed using descriptive \n",
      "statistical methods, involving mean scores and standard deviations. Descriptive analysis tests \n",
      "were conducted con sidering the mean scores involved. The Statistical Package for Social \n",
      "Science version 25 software was used to analyze the data in this study. The results of this study \n",
      "found that the level of creative practices and innovations among higher education institution \n",
      "students towards entrepreneurial leadership was moderately low and still acceptable. The \n",
      "implication of this study suggests that students should be more broadly exposed to such \n",
      "studies, focusing on a wider variety of respondents from different backgr ounds of higher \n",
      "education institutions in Malaysia, including public and private institutions, to raise awareness \n",
      "about the importance of creative and innovative elements among higher education institution \n",
      "students towards entrepreneurial leadership more extensively. \n",
      "Keywords: Creative and Innovation Practices, Higher Education Institution Students , \n",
      "Entrepreneurial Leadership \n",
      " \n",
      "Introduction  \n",
      "The concepts of creativity and innovation are increasingly recognized as vital in today’s \n",
      "competitive and rapidly evolving global landscape. \"Creativity refers to the generation of new \n",
      "and imaginative ideas or solutions to problems (Vygotsky, 2004). Vygotsky believes that \n",
      " \n",
      "                                         Vol 14, Issue 8, (2024) E-ISSN: 2222-6990 \n",
      " \n",
      " \n",
      "To Link this Article: http://dx.doi.org/10.6007/IJARBSS/v14-i8/22188       DOI:10.6007/IJARBSS/v14-i8/22188 \n",
      "Published Date: 26 August 2024\n"
     ]
    }
   ],
   "source": [
    "print(docs[0].page_content)"
   ]
  },
  {
   "cell_type": "code",
   "execution_count": 10,
   "id": "4f7257d5",
   "metadata": {},
   "outputs": [
    {
     "name": "stdout",
     "output_type": "stream",
     "text": [
      "{'producer': 'Microsoft® Word LTSC', 'creator': 'Microsoft® Word LTSC', 'creationdate': '2024-09-09T22:50:37-07:00', 'author': 'Hassan Danial', 'moddate': '2024-09-09T22:50:37-07:00', 'source': 'pdw.pdf', 'total_pages': 18, 'page': 0, 'page_label': '1'}\n"
     ]
    }
   ],
   "source": [
    "print(docs[0].metadata)"
   ]
  }
 ],
 "metadata": {
  "kernelspec": {
   "display_name": "langchain-document-loaders",
   "language": "python",
   "name": "python3"
  },
  "language_info": {
   "codemirror_mode": {
    "name": "ipython",
    "version": 3
   },
   "file_extension": ".py",
   "mimetype": "text/x-python",
   "name": "python",
   "nbconvert_exporter": "python",
   "pygments_lexer": "ipython3",
   "version": "3.13.1"
  }
 },
 "nbformat": 4,
 "nbformat_minor": 5
}
