{
 "cells": [
  {
   "cell_type": "markdown",
   "id": "26c97aca",
   "metadata": {},
   "source": [
    "### 4. WebBaseLoader\n",
    "* It is a document loader in LangChain used to load and extract text content from web pages (URLs).\n",
    "* It uses BeautifulSoup under the hood to parse HTML and extract visible text."
   ]
  },
  {
   "cell_type": "markdown",
   "id": "d6529536",
   "metadata": {},
   "source": [
    "### When to Use:\n",
    "* For blogs, news articles, or public websites where the content is primarily text-based and static."
   ]
  },
  {
   "cell_type": "code",
   "execution_count": 3,
   "id": "4572eada",
   "metadata": {},
   "outputs": [
    {
     "data": {
      "text/plain": [
       "True"
      ]
     },
     "execution_count": 3,
     "metadata": {},
     "output_type": "execute_result"
    }
   ],
   "source": [
    "from langchain_community.document_loaders import WebBaseLoader\n",
    "from langchain_groq import ChatGroq\n",
    "from langchain_core.output_parsers import StrOutputParser\n",
    "from langchain_core.prompts import PromptTemplate\n",
    "from dotenv import load_dotenv\n",
    "\n",
    "load_dotenv()"
   ]
  },
  {
   "cell_type": "code",
   "execution_count": 4,
   "id": "de3c5d76",
   "metadata": {},
   "outputs": [],
   "source": [
    "model = ChatGroq(model='llama-3.1-8b-instant')"
   ]
  },
  {
   "cell_type": "code",
   "execution_count": 5,
   "id": "a9e51ed6",
   "metadata": {},
   "outputs": [],
   "source": [
    "prompt = PromptTemplate(\n",
    "    template='Answer the following question \\n {question} from the following text - \\n {text}',\n",
    "    input_variables=['question','text']\n",
    ")"
   ]
  },
  {
   "cell_type": "code",
   "execution_count": 6,
   "id": "cdd63766",
   "metadata": {},
   "outputs": [],
   "source": [
    "parser = StrOutputParser()"
   ]
  },
  {
   "cell_type": "code",
   "execution_count": 7,
   "id": "e833b810",
   "metadata": {},
   "outputs": [],
   "source": [
    "url = 'https://www.flipkart.com/apple-macbook-air-m2-16-gb-256-gb-ssd-macos-sequoia-mc7x4hn-a/p/itmdc5308fa78421'\n",
    "loader = WebBaseLoader(url)"
   ]
  },
  {
   "cell_type": "code",
   "execution_count": 9,
   "id": "603cca0f",
   "metadata": {},
   "outputs": [],
   "source": [
    "docs = loader.load()"
   ]
  },
  {
   "cell_type": "code",
   "execution_count": 10,
   "id": "fa949a99",
   "metadata": {},
   "outputs": [],
   "source": [
    "chain = prompt | model | parser"
   ]
  },
  {
   "cell_type": "code",
   "execution_count": 12,
   "id": "f073e867",
   "metadata": {},
   "outputs": [
    {
     "name": "stdout",
     "output_type": "stream",
     "text": [
      "The product that we are talking about is the Apple MacBook AIR Apple M2 - (8 GB/256 GB SSD/Mac OS Monterey) MLY33HN/A.\n"
     ]
    }
   ],
   "source": [
    "print(chain.invoke({'question':'What is the product that we are talking about?', 'text':docs[0].page_content}))"
   ]
  },
  {
   "cell_type": "markdown",
   "id": "f9330d99",
   "metadata": {},
   "source": [
    "### Limitations:\n",
    "* Doesn’t handle JavaScript-heavy pages well (use SeleniumURLLoader for that).\n",
    "* Loads only static content (what's in the HTML, not what loads after the page renders)"
   ]
  }
 ],
 "metadata": {
  "kernelspec": {
   "display_name": "langchain-document-loaders",
   "language": "python",
   "name": "python3"
  },
  "language_info": {
   "codemirror_mode": {
    "name": "ipython",
    "version": 3
   },
   "file_extension": ".py",
   "mimetype": "text/x-python",
   "name": "python",
   "nbconvert_exporter": "python",
   "pygments_lexer": "ipython3",
   "version": "3.13.1"
  }
 },
 "nbformat": 4,
 "nbformat_minor": 5
}
