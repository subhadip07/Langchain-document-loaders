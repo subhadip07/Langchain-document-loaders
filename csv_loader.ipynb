{
 "cells": [],
 "metadata": {
  "kernelspec": {
   "display_name": "langchain-document-loaders",
   "language": "python",
   "name": "python3"
  },
  "language_info": {
   "name": "python",
   "version": "3.13.1"
  }
 },
 "nbformat": 4,
 "nbformat_minor": 5
}
