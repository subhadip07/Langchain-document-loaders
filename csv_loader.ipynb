{
 "cells": [
  {
   "cell_type": "markdown",
   "id": "82627004",
   "metadata": {},
   "source": [
    "### 5. CSVLoader \n",
    "* It is a document loader used to load CSV files into LangChain \n",
    "* Document objects — one per row, by default."
   ]
  },
  {
   "cell_type": "code",
   "execution_count": 2,
   "id": "fb3fb5df",
   "metadata": {},
   "outputs": [],
   "source": [
    "from langchain_community.document_loaders import CSVLoader"
   ]
  },
  {
   "cell_type": "code",
   "execution_count": 3,
   "id": "ee1d6c8b",
   "metadata": {},
   "outputs": [],
   "source": [
    "loader = CSVLoader(file_path='users.csv')"
   ]
  },
  {
   "cell_type": "code",
   "execution_count": 4,
   "id": "b0d8d61c",
   "metadata": {},
   "outputs": [],
   "source": [
    "docs = loader.load()"
   ]
  },
  {
   "cell_type": "code",
   "execution_count": 5,
   "id": "72ad35a3",
   "metadata": {},
   "outputs": [
    {
     "name": "stdout",
     "output_type": "stream",
     "text": [
      "7\n"
     ]
    }
   ],
   "source": [
    "print(len(docs))"
   ]
  },
  {
   "cell_type": "code",
   "execution_count": 8,
   "id": "7dc3e517",
   "metadata": {},
   "outputs": [
    {
     "name": "stdout",
     "output_type": "stream",
     "text": [
      "page_content='user_id: 3\n",
      "name: Vartika\n",
      "email: vartika@gmail.com\n",
      "password: 9hu7j' metadata={'source': 'users.csv', 'row': 2}\n"
     ]
    }
   ],
   "source": [
    "print(docs[2])"
   ]
  }
 ],
 "metadata": {
  "kernelspec": {
   "display_name": "langchain-document-loaders",
   "language": "python",
   "name": "python3"
  },
  "language_info": {
   "codemirror_mode": {
    "name": "ipython",
    "version": 3
   },
   "file_extension": ".py",
   "mimetype": "text/x-python",
   "name": "python",
   "nbconvert_exporter": "python",
   "pygments_lexer": "ipython3",
   "version": "3.13.1"
  }
 },
 "nbformat": 4,
 "nbformat_minor": 5
}
